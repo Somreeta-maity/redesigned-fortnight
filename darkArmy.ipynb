{
 "cells": [
  {
   "cell_type": "code",
   "execution_count": 1,
   "id": "3070e329",
   "metadata": {},
   "outputs": [],
   "source": [
    "import pandas as pd\n",
    "import numpy as np\n",
    "import matplotlib.pyplot as plt\n",
    "pd.set_option('display.max_colwidth', None)"
   ]
  },
  {
   "cell_type": "code",
   "execution_count": 2,
   "id": "9cd4e795",
   "metadata": {},
   "outputs": [],
   "source": [
    "data = pd.read_csv('C:/Users/maity/OneDrive/Desktop/darkArmy/disease.csv')"
   ]
  },
  {
   "cell_type": "code",
   "execution_count": 3,
   "id": "3ba60599",
   "metadata": {},
   "outputs": [
    {
     "data": {
      "text/html": [
       "<div>\n",
       "<style scoped>\n",
       "    .dataframe tbody tr th:only-of-type {\n",
       "        vertical-align: middle;\n",
       "    }\n",
       "\n",
       "    .dataframe tbody tr th {\n",
       "        vertical-align: top;\n",
       "    }\n",
       "\n",
       "    .dataframe thead th {\n",
       "        text-align: right;\n",
       "    }\n",
       "</style>\n",
       "<table border=\"1\" class=\"dataframe\">\n",
       "  <thead>\n",
       "    <tr style=\"text-align: right;\">\n",
       "      <th></th>\n",
       "      <th>Year</th>\n",
       "      <th>Emirate En</th>\n",
       "      <th>Emirate Ar</th>\n",
       "      <th>Geo Coordination</th>\n",
       "      <th>Disease Type</th>\n",
       "      <th>Total</th>\n",
       "    </tr>\n",
       "  </thead>\n",
       "  <tbody>\n",
       "    <tr>\n",
       "      <th>0</th>\n",
       "      <td>2009</td>\n",
       "      <td>Abu Dhabi</td>\n",
       "      <td>ابوظبي</td>\n",
       "      <td>24.4539° N, 54.3773° E</td>\n",
       "      <td>Cholera</td>\n",
       "      <td>1</td>\n",
       "    </tr>\n",
       "    <tr>\n",
       "      <th>1</th>\n",
       "      <td>2009</td>\n",
       "      <td>Abu Dhabi</td>\n",
       "      <td>ابوظبي</td>\n",
       "      <td>24.4539° N, 54.3773° E</td>\n",
       "      <td>Measles</td>\n",
       "      <td>32</td>\n",
       "    </tr>\n",
       "    <tr>\n",
       "      <th>2</th>\n",
       "      <td>2009</td>\n",
       "      <td>Abu Dhabi</td>\n",
       "      <td>ابوظبي</td>\n",
       "      <td>24.4539° N, 54.3773° E</td>\n",
       "      <td>Rubella</td>\n",
       "      <td>48</td>\n",
       "    </tr>\n",
       "    <tr>\n",
       "      <th>3</th>\n",
       "      <td>2009</td>\n",
       "      <td>Abu Dhabi</td>\n",
       "      <td>ابوظبي</td>\n",
       "      <td>24.4539° N, 54.3773° E</td>\n",
       "      <td>Chicken Pox</td>\n",
       "      <td>7219</td>\n",
       "    </tr>\n",
       "    <tr>\n",
       "      <th>4</th>\n",
       "      <td>2009</td>\n",
       "      <td>Abu Dhabi</td>\n",
       "      <td>ابوظبي</td>\n",
       "      <td>24.4539° N, 54.3773° E</td>\n",
       "      <td>Acute Flaccid Para.</td>\n",
       "      <td>10</td>\n",
       "    </tr>\n",
       "    <tr>\n",
       "      <th>...</th>\n",
       "      <td>...</td>\n",
       "      <td>...</td>\n",
       "      <td>...</td>\n",
       "      <td>...</td>\n",
       "      <td>...</td>\n",
       "      <td>...</td>\n",
       "    </tr>\n",
       "    <tr>\n",
       "      <th>1857</th>\n",
       "      <td>2018</td>\n",
       "      <td>Fujairah</td>\n",
       "      <td>الفجيرة</td>\n",
       "      <td>25.1288° N, 56.3265° E</td>\n",
       "      <td>Gonorrhoea</td>\n",
       "      <td>5</td>\n",
       "    </tr>\n",
       "    <tr>\n",
       "      <th>1858</th>\n",
       "      <td>2018</td>\n",
       "      <td>Fujairah</td>\n",
       "      <td>الفجيرة</td>\n",
       "      <td>25.1288° N, 56.3265° E</td>\n",
       "      <td>Other STD.</td>\n",
       "      <td>10</td>\n",
       "    </tr>\n",
       "    <tr>\n",
       "      <th>1859</th>\n",
       "      <td>2018</td>\n",
       "      <td>Fujairah</td>\n",
       "      <td>الفجيرة</td>\n",
       "      <td>25.1288° N, 56.3265° E</td>\n",
       "      <td>Brucellosis</td>\n",
       "      <td>9</td>\n",
       "    </tr>\n",
       "    <tr>\n",
       "      <th>1860</th>\n",
       "      <td>2018</td>\n",
       "      <td>Fujairah</td>\n",
       "      <td>الفجيرة</td>\n",
       "      <td>25.1288° N, 56.3265° E</td>\n",
       "      <td>Scabies</td>\n",
       "      <td>5</td>\n",
       "    </tr>\n",
       "    <tr>\n",
       "      <th>1861</th>\n",
       "      <td>2018</td>\n",
       "      <td>Fujairah</td>\n",
       "      <td>الفجيرة</td>\n",
       "      <td>25.1288° N, 56.3265° E</td>\n",
       "      <td>Influenza</td>\n",
       "      <td>786</td>\n",
       "    </tr>\n",
       "  </tbody>\n",
       "</table>\n",
       "<p>1862 rows × 6 columns</p>\n",
       "</div>"
      ],
      "text/plain": [
       "      Year Emirate En Emirate Ar        Geo Coordination         Disease Type  \\\n",
       "0     2009  Abu Dhabi     ابوظبي  24.4539° N, 54.3773° E              Cholera   \n",
       "1     2009  Abu Dhabi     ابوظبي  24.4539° N, 54.3773° E              Measles   \n",
       "2     2009  Abu Dhabi     ابوظبي  24.4539° N, 54.3773° E              Rubella   \n",
       "3     2009  Abu Dhabi     ابوظبي  24.4539° N, 54.3773° E          Chicken Pox   \n",
       "4     2009  Abu Dhabi     ابوظبي  24.4539° N, 54.3773° E  Acute Flaccid Para.   \n",
       "...    ...        ...        ...                     ...                  ...   \n",
       "1857  2018   Fujairah    الفجيرة  25.1288° N, 56.3265° E           Gonorrhoea   \n",
       "1858  2018   Fujairah    الفجيرة  25.1288° N, 56.3265° E           Other STD.   \n",
       "1859  2018   Fujairah    الفجيرة  25.1288° N, 56.3265° E          Brucellosis   \n",
       "1860  2018   Fujairah    الفجيرة  25.1288° N, 56.3265° E              Scabies   \n",
       "1861  2018   Fujairah    الفجيرة  25.1288° N, 56.3265° E            Influenza   \n",
       "\n",
       "      Total  \n",
       "0         1  \n",
       "1        32  \n",
       "2        48  \n",
       "3      7219  \n",
       "4        10  \n",
       "...     ...  \n",
       "1857      5  \n",
       "1858     10  \n",
       "1859      9  \n",
       "1860      5  \n",
       "1861    786  \n",
       "\n",
       "[1862 rows x 6 columns]"
      ]
     },
     "execution_count": 3,
     "metadata": {},
     "output_type": "execute_result"
    }
   ],
   "source": [
    "data"
   ]
  },
  {
   "cell_type": "code",
   "execution_count": 4,
   "id": "e2d0af39",
   "metadata": {},
   "outputs": [
    {
     "data": {
      "text/html": [
       "<div>\n",
       "<style scoped>\n",
       "    .dataframe tbody tr th:only-of-type {\n",
       "        vertical-align: middle;\n",
       "    }\n",
       "\n",
       "    .dataframe tbody tr th {\n",
       "        vertical-align: top;\n",
       "    }\n",
       "\n",
       "    .dataframe thead th {\n",
       "        text-align: right;\n",
       "    }\n",
       "</style>\n",
       "<table border=\"1\" class=\"dataframe\">\n",
       "  <thead>\n",
       "    <tr style=\"text-align: right;\">\n",
       "      <th></th>\n",
       "      <th>Disease Type</th>\n",
       "      <th>Count</th>\n",
       "    </tr>\n",
       "  </thead>\n",
       "  <tbody>\n",
       "    <tr>\n",
       "      <th>21</th>\n",
       "      <td>Influenza</td>\n",
       "      <td>113226</td>\n",
       "    </tr>\n",
       "    <tr>\n",
       "      <th>11</th>\n",
       "      <td>Chicken Pox</td>\n",
       "      <td>109949</td>\n",
       "    </tr>\n",
       "    <tr>\n",
       "      <th>23</th>\n",
       "      <td>Malaria</td>\n",
       "      <td>31006</td>\n",
       "    </tr>\n",
       "    <tr>\n",
       "      <th>19</th>\n",
       "      <td>Hepatitis B</td>\n",
       "      <td>16899</td>\n",
       "    </tr>\n",
       "    <tr>\n",
       "      <th>14</th>\n",
       "      <td>G.lamblia</td>\n",
       "      <td>15957</td>\n",
       "    </tr>\n",
       "    <tr>\n",
       "      <th>47</th>\n",
       "      <td>Scabies</td>\n",
       "      <td>12322</td>\n",
       "    </tr>\n",
       "    <tr>\n",
       "      <th>31</th>\n",
       "      <td>Other Food Poisoning</td>\n",
       "      <td>12313</td>\n",
       "    </tr>\n",
       "    <tr>\n",
       "      <th>20</th>\n",
       "      <td>Hepatitis C</td>\n",
       "      <td>12081</td>\n",
       "    </tr>\n",
       "    <tr>\n",
       "      <th>3</th>\n",
       "      <td>Amoebisasis</td>\n",
       "      <td>8885</td>\n",
       "    </tr>\n",
       "    <tr>\n",
       "      <th>50</th>\n",
       "      <td>Syphilis</td>\n",
       "      <td>8519</td>\n",
       "    </tr>\n",
       "  </tbody>\n",
       "</table>\n",
       "</div>"
      ],
      "text/plain": [
       "            Disease Type   Count\n",
       "21             Influenza  113226\n",
       "11           Chicken Pox  109949\n",
       "23               Malaria   31006\n",
       "19           Hepatitis B   16899\n",
       "14             G.lamblia   15957\n",
       "47               Scabies   12322\n",
       "31  Other Food Poisoning   12313\n",
       "20           Hepatitis C   12081\n",
       "3            Amoebisasis    8885\n",
       "50              Syphilis    8519"
      ]
     },
     "execution_count": 4,
     "metadata": {},
     "output_type": "execute_result"
    }
   ],
   "source": [
    "#TOP 10 DISEASES IN UAE\n",
    "disease_by_emirates = data.groupby(['Disease Type'])['Total'].agg('sum').reset_index(name='Count')\n",
    "disease_by_emirates = disease_by_emirates.sort_values(by='Count' ,ascending = False)\n",
    "disease_by_emirates.head(10)"
   ]
  },
  {
   "cell_type": "code",
   "execution_count": 6,
   "id": "45362831",
   "metadata": {},
   "outputs": [
    {
     "data": {
      "image/png": "[encoded data removed]",
      "text/plain": [
       "<Figure size 432x288 with 1 Axes>"
      ]
     },
     "metadata": {
      "needs_background": "light"
     },
     "output_type": "display_data"
    }
   ],
   "source": [
    "influenza_data = data[data['Disease Type'] == 'Influenza'][['Year','Total']]\n",
    "plt.barh(influenza_data['Year'], influenza_data['Total'])\n",
    "plt.show()"
   ]
  },
  {
   "cell_type": "code",
   "execution_count": 8,
   "id": "fb33591d",
   "metadata": {},
   "outputs": [
    {
     "data": {
      "image/png": "[encoded data removed]",
      "text/plain": [
       "<Figure size 432x288 with 1 Axes>"
      ]
     },
     "metadata": {
      "needs_background": "light"
     },
     "output_type": "display_data"
    }
   ],
   "source": [
    "influenza_data = data[data['Disease Type'] == 'Influenza'][['Emirate En','Total']]\n",
    "\n",
    "plt.barh(influenza_data['Emirate En'], influenza_data['Total'])\n",
    "plt.show()\n"
   ]
  },
  {
   "cell_type": "code",
   "execution_count": 10,
   "id": "194631dc",
   "metadata": {},
   "outputs": [
    {
     "data": {
      "image/png": "[encoded data removed]",
      "text/plain": [
       "<Figure size 432x288 with 1 Axes>"
      ]
     },
     "metadata": {
      "needs_background": "light"
     },
     "output_type": "display_data"
    }
   ],
   "source": [
    "chickenpox_data = data[data['Disease Type'] == 'Chicken Pox'][['Year','Total']]\n",
    "\n",
    "plt.barh(chickenpox_data['Year'], chickenpox_data['Total'])\n",
    "plt.show()"
   ]
  },
  {
   "cell_type": "code",
   "execution_count": 11,
   "id": "222f08e7",
   "metadata": {},
   "outputs": [
    {
     "data": {
      "image/png": "[encoded data removed]",
      "text/plain": [
       "<Figure size 432x288 with 1 Axes>"
      ]
     },
     "metadata": {
      "needs_background": "light"
     },
     "output_type": "display_data"
    }
   ],
   "source": [
    "chickenpox_data = data[data['Disease Type'] == 'Chicken Pox'][['Emirate En','Total']]\n",
    "\n",
    "plt.barh(chickenpox_data['Emirate En'], chickenpox_data['Total'])\n",
    "plt.show()"
   ]
  },
  {
   "cell_type": "code",
   "execution_count": null,
   "id": "1505b1ff",
   "metadata": {},
   "outputs": [],
   "source": []
  }
 ],
 "metadata": {
  "kernelspec": {
   "display_name": "Python 3 (ipykernel)",
   "language": "python",
   "name": "python3"
  },
  "language_info": {
   "codemirror_mode": {
    "name": "ipython",
    "version": 3
   },
   "file_extension": ".py",
   "mimetype": "text/x-python",
   "name": "python",
   "nbconvert_exporter": "python",
   "pygments_lexer": "ipython3",
   "version": "3.9.7"
  }
 },
 "nbformat": 4,
 "nbformat_minor": 5
}
